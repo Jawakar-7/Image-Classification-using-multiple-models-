{
 "cells": [
  {
   "cell_type": "markdown",
   "metadata": {},
   "source": [
    "### Importing Libraries "
   ]
  },
  {
   "cell_type": "code",
   "execution_count": 5,
   "metadata": {},
   "outputs": [],
   "source": [
    "import seaborn as sns \n",
    "import cv2\n",
    "import numpy as np\n",
    "import matplotlib.pyplot as plt\n",
    "import tensorflow as tf\n"
   ]
  },
  {
   "cell_type": "markdown",
   "metadata": {},
   "source": [
    "##Dataset Preparation\n",
    "\n",
    "\n",
    "Here the images are in seg_test,seg_train folders we will be accesing every image and Scale ,resizing it . we will be using cv2 library to resize it \n",
    " "
   ]
  },
  {
   "cell_type": "code",
   "execution_count": 11,
   "metadata": {},
   "outputs": [
    {
     "name": "stdout",
     "output_type": "stream",
     "text": [
      "{'mountain': 0, 'street': 1, 'glacier': 2, 'buildings': 3, 'sea': 4, 'forest': 5}\n"
     ]
    }
   ],
   "source": [
    "class_names=['mountain','street','glacier','buildings','sea','forest']\n",
    "class_label_names={v:k for k,v in enumerate(class_names)}\n",
    "print(class_label_names)\n",
    "no_classes=len(class_label_names)\n"
   ]
  },
  {
   "cell_type": "markdown",
   "metadata": {},
   "source": [
    " here we are writing a whole new function to access the images and return as (X_train,Y_train),(X_test,Y-test) tuple output"
   ]
  },
  {
   "cell_type": "code",
   "execution_count": null,
   "metadata": {},
   "outputs": [],
   "source": [
    "import os\n",
    "Img_size=(150,150)\n",
    "def get_data():\n",
    "    data_paths=[\"C:\\Msc DS\\Image-Classification-using-multiple-models-\\Datasets\\seg_train\\seg_train\",\"C:\\Msc DS\\Image-Classification-using-multiple-models-\\Datasets\\seg_test\\seg_test\"]\n",
    "    output=[]#we will be saving the images and labels tuples here and returning\n",
    "    for data in data_paths:\n",
    "        images=[]\n",
    "        labels=[]\n",
    "        print(\"loading {}\",data_paths)\n",
    "        for i in os.listdir(data):\n",
    "            "
   ]
  }
 ],
 "metadata": {
  "kernelspec": {
   "display_name": "imgclas",
   "language": "python",
   "name": "python3"
  },
  "language_info": {
   "codemirror_mode": {
    "name": "ipython",
    "version": 3
   },
   "file_extension": ".py",
   "mimetype": "text/x-python",
   "name": "python",
   "nbconvert_exporter": "python",
   "pygments_lexer": "ipython3",
   "version": "3.10.0"
  },
  "orig_nbformat": 4
 },
 "nbformat": 4,
 "nbformat_minor": 2
}
