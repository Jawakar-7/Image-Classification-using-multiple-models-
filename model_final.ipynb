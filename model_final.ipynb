{
 "cells": [
  {
   "cell_type": "code",
   "execution_count": null,
   "id": "aa345f20",
   "metadata": {},
   "outputs": [],
   "source": [
    "!git clone https://github.com/Jawakar-7/Image-Classification-using-multiple-models-.git"
   ]
  },
  {
   "cell_type": "code",
   "execution_count": null,
   "id": "d4040dab",
   "metadata": {},
   "outputs": [],
   "source": [
    "import seaborn as sns\n",
    "import cv2\n",
    "import numpy as np\n",
    "import matplotlib.pyplot as plt\n",
    "%matplotlib inline\n",
    "import tensorflow as tf\n",
    "import warnings\n",
    "warnings.filterwarnings('ignore')\n",
    "\n",
    "from sklearn.metrics import confusion_matrix,classification_report\n",
    "\n",
    "import tensorflow as tf\n",
    "from tensorflow.keras.preprocessing.image import ImageDataGenerator\n",
    "from  keras.models import Sequential\n",
    "from keras.layers import Activation , BatchNormalization , Dense , Dropout , Flatten , MaxPooling2D,Conv2D\n",
    "from tensorflow.keras.regularizers import l2\n",
    "from tensorflow.keras.callbacks import ReduceLROnPlateau, EarlyStopping\n",
    "from  keras.models import Sequential"
   ]
  },
  {
   "cell_type": "code",
   "execution_count": 1,
   "id": "3b99ebd9",
   "metadata": {},
   "outputs": [],
   "source": [
    "train_path='/content/Image-Classification-using-multiple-models-/Datasets/seg_test/seg_test'\n",
    "test_path='/content/Image-Classification-using-multiple-models-/Datasets/seg_train/seg_train'"
   ]
  },
  {
   "cell_type": "code",
   "execution_count": null,
   "id": "2e551ae8",
   "metadata": {},
   "outputs": [],
   "source": [
    "train-x="
   ]
  }
 ],
 "metadata": {
  "kernelspec": {
   "display_name": "imgclas",
   "language": "python",
   "name": "imgclas"
  },
  "language_info": {
   "codemirror_mode": {
    "name": "ipython",
    "version": 3
   },
   "file_extension": ".py",
   "mimetype": "text/x-python",
   "name": "python",
   "nbconvert_exporter": "python",
   "pygments_lexer": "ipython3",
   "version": "3.10.0"
  }
 },
 "nbformat": 4,
 "nbformat_minor": 5
}
