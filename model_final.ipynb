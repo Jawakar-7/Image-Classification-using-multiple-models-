{
  "cells": [
    {
      "cell_type": "markdown",
      "source": [
        "### Cloning my Git Repo"
      ],
      "metadata": {
        "id": "cWl5iWtw9jrF"
      },
      "id": "cWl5iWtw9jrF"
    },
    {
      "cell_type": "code",
      "source": [
        "!git clone https://github.com/Jawakar-7/Image-Classification-using-multiple-models-.git"
      ],
      "metadata": {
        "id": "2ZbCRgZ09jx2"
      },
      "id": "2ZbCRgZ09jx2",
      "execution_count": null,
      "outputs": []
    },
    {
      "cell_type": "markdown",
      "source": [
        "### Import the necessary files:"
      ],
      "metadata": {
        "id": "XIWP-prp9dgG"
      },
      "id": "XIWP-prp9dgG"
    },
    {
      "cell_type": "code",
      "execution_count": 2,
      "id": "d4040dab",
      "metadata": {
        "id": "d4040dab"
      },
      "outputs": [],
      "source": [
        "import seaborn as sns\n",
        "import cv2\n",
        "import numpy as np\n",
        "import matplotlib.pyplot as plt\n",
        "%matplotlib inline\n",
        "import tensorflow as tf\n",
        "import warnings\n",
        "warnings.filterwarnings('ignore')\n",
        "\n",
        "from sklearn.metrics import confusion_matrix,classification_report\n",
        "\n",
        "import tensorflow as tf\n",
        "from tensorflow.keras.preprocessing.image import ImageDataGenerator\n",
        "from  keras.models import Sequential\n",
        "from keras.layers import Activation , BatchNormalization , Dense , Dropout , Flatten , MaxPooling2D,Conv2D\n",
        "from tensorflow.keras.regularizers import l2\n",
        "from tensorflow.keras.callbacks import ReduceLROnPlateau, EarlyStopping\n",
        "from  keras.models import Sequential"
      ]
    },
    {
      "cell_type": "code",
      "execution_count": 12,
      "id": "3b99ebd9",
      "metadata": {
        "id": "3b99ebd9"
      },
      "outputs": [],
      "source": [
        "test_path='/content/Image-Classification-using-multiple-models-/Datasets/seg_test/seg_test'\n",
        "train_path='/content/Image-Classification-using-multiple-models-/Datasets/seg_train/seg_train'"
      ]
    },
    {
      "cell_type": "markdown",
      "source": [
        "### Image data Generator\n",
        "It is a library available in keras.preprocessing to extract images from class files and accordingly set class names for them (we need the images to be in a seperate class files for this function to work)\n",
        "https://www.tensorflow.org/api_docs/python/tf/keras/preprocessing/image/ImageDataGenerator\n",
        "\n",
        "This is an effective way of accessing images instead of using the os package to parse through all the files one by one."
      ],
      "metadata": {
        "id": "qhU0wJa382wA"
      },
      "id": "qhU0wJa382wA"
    },
    {
      "cell_type": "code",
      "execution_count": 13,
      "id": "2e551ae8",
      "metadata": {
        "id": "2e551ae8",
        "outputId": "e73230d8-f244-4cfc-94b3-7750916ec68b",
        "colab": {
          "base_uri": "https://localhost:8080/"
        }
      },
      "outputs": [
        {
          "output_type": "stream",
          "name": "stdout",
          "text": [
            "Found 14034 images belonging to 6 classes.\n"
          ]
        }
      ],
      "source": [
        "from sklearn.utils import column_or_1d\n",
        "train_xgen=ImageDataGenerator(\n",
        "    rescale=1.0/255,#Scaling Down the data\n",
        "    zoom_range=0.1,\n",
        "    width_shift_range=0.2,\n",
        "    height_shift_range=0.1,\n",
        ")\n",
        "X_train=train_xgen.flow_from_directory(\n",
        "    train_path,\n",
        "    target_size=(150,150),\n",
        "    color_mode='rgb',\n",
        "    class_mode='categorical',\n",
        "    batch_size=32\n",
        ")"
      ]
    },
    {
      "cell_type": "code",
      "source": [
        "test_xgen=ImageDataGenerator(\n",
        "    rescale=1.0/255\n",
        ")\n",
        "X_test=test_xgen.flow_from_directory(\n",
        "    test_path,\n",
        "    class_mode='categorical',\n",
        "    target_size=(150,150),\n",
        "    batch_size=32,\n",
        "    color_mode='rgb',\n",
        ")"
      ],
      "metadata": {
        "id": "JXe23jxECGK0",
        "outputId": "39d028f7-7884-4621-bb50-7af9b0dfaf93",
        "colab": {
          "base_uri": "https://localhost:8080/"
        }
      },
      "id": "JXe23jxECGK0",
      "execution_count": 14,
      "outputs": [
        {
          "output_type": "stream",
          "name": "stdout",
          "text": [
            "Found 3000 images belonging to 6 classes.\n"
          ]
        }
      ]
    },
    {
      "cell_type": "markdown",
      "source": [
        "The output of ImageDataGenerator is a Generator object."
      ],
      "metadata": {
        "id": "N8m_iRvXEgEh"
      },
      "id": "N8m_iRvXEgEh"
    },
    {
      "cell_type": "code",
      "source": [
        "labels={i:k for k,i in X_train.class_indices.items()}\n",
        "for i,k in labels.items():\n",
        "  print(f\"{i}:{k}\")"
      ],
      "metadata": {
        "id": "YlvbvjrBD63G",
        "outputId": "e90ae1a8-33a3-44fe-b0ed-ea0fc4f1a885",
        "colab": {
          "base_uri": "https://localhost:8080/"
        }
      },
      "id": "YlvbvjrBD63G",
      "execution_count": 21,
      "outputs": [
        {
          "output_type": "stream",
          "name": "stdout",
          "text": [
            "0:buildings\n",
            "1:forest\n",
            "2:glacier\n",
            "3:mountain\n",
            "4:sea\n",
            "5:street\n"
          ]
        }
      ]
    },
    {
      "cell_type": "markdown",
      "source": [
        "### Now that we have all our images in seperate classes we will try to visualize them using matplotlib"
      ],
      "metadata": {
        "id": "dcENGbawFQSx"
      },
      "id": "dcENGbawFQSx"
    },
    {
      "cell_type": "code",
      "source": [
        "fig , ax=plt.subplots(ncols=5,nrows=2,figsize=(12,12))\n",
        "t=0\n",
        "for a in range(2):\n",
        "    for  b in range(5):\n"
      ],
      "metadata": {
        "id": "0nvB_o0dEJwy",
        "outputId": "8652d9e2-545c-4585-c5ab-ceb8d62ee67c",
        "colab": {
          "base_uri": "https://localhost:8080/",
          "height": 990
        }
      },
      "id": "0nvB_o0dEJwy",
      "execution_count": 26,
      "outputs": [
        {
          "output_type": "display_data",
          "data": {
            "text/plain": [
              "<Figure size 1200x1200 with 10 Axes>"
            ],
            "image/png": "[encoded data removed]"
          },
          "metadata": {}
        }
      ]
    },
    {
      "cell_type": "code",
      "source": [],
      "metadata": {
        "id": "KoOzaBhkFhyb"
      },
      "id": "KoOzaBhkFhyb",
      "execution_count": null,
      "outputs": []
    }
  ],
  "metadata": {
    "kernelspec": {
      "display_name": "imgclas",
      "language": "python",
      "name": "imgclas"
    },
    "language_info": {
      "codemirror_mode": {
        "name": "ipython",
        "version": 3
      },
      "file_extension": ".py",
      "mimetype": "text/x-python",
      "name": "python",
      "nbconvert_exporter": "python",
      "pygments_lexer": "ipython3",
      "version": "3.10.0"
    },
    "colab": {
      "provenance": []
    }
  },
  "nbformat": 4,
  "nbformat_minor": 5
}